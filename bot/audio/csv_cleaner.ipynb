{
 "cells": [
  {
   "cell_type": "code",
   "execution_count": 5,
   "metadata": {},
   "outputs": [],
   "source": [
    "import pandas as pd"
   ]
  },
  {
   "cell_type": "code",
   "execution_count": 6,
   "metadata": {},
   "outputs": [],
   "source": [
    "df = pd.read_csv('top2000.csv', header=None, names=[\n",
    "    \"Rank\", \"Title\", \"Artists\", \"Year\", \n",
    "])\n",
    "df['Artists'] = df['Artists'].str.split('&').str[0].str.strip()\n",
    "df['Artists'] = df['Artists'].str.replace(r'\\(.*?\\)', '', regex=True).str.strip()\n",
    "df['Artists'] = df['Artists'].str.replace(r'\\bft\\.?\\s.*', '', regex=True)\n",
    "\n",
    "df['Title'] = df['Title'].str.replace(r'\\(.*?\\)', '', regex=True).str.strip()\n",
    "dff = df.iloc[0:2000]\n",
    "dff[['Rank', \"Artists\", \"Title\"]].to_csv('songs.csv')"
   ]
  }
 ],
 "metadata": {
  "kernelspec": {
   "display_name": "discord-wrapped-_pWwm3tf",
   "language": "python",
   "name": "python3"
  },
  "language_info": {
   "codemirror_mode": {
    "name": "ipython",
    "version": 3
   },
   "file_extension": ".py",
   "mimetype": "text/x-python",
   "name": "python",
   "nbconvert_exporter": "python",
   "pygments_lexer": "ipython3",
   "version": "3.11.11"
  }
 },
 "nbformat": 4,
 "nbformat_minor": 2
}
